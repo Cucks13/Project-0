{
 "cells": [
  {
   "cell_type": "markdown",
   "metadata": {},
   "source": [
    "<div style=\"text-align: center;\">\n",
    "  <img src=\"https://github.com/Hack-io-Data/Imagenes/blob/main/01-LogosHackio/logo_celeste@4x.png?raw=true\" alt=\"logo hack(io)\" />\n",
    "</div>"
   ]
  },
  {
   "cell_type": "markdown",
   "metadata": {},
   "source": [
    "#### 1. Escribe un programa que determine si un número es par o impar.\n",
    "\n"
   ]
  },
  {
   "cell_type": "code",
   "execution_count": 8,
   "metadata": {},
   "outputs": [
    {
     "name": "stdout",
     "output_type": "stream",
     "text": [
      "es un número impar\n"
     ]
    }
   ],
   "source": [
    "numero1 = 117\n",
    "\n",
    "if numero1 % 2 == 0:\n",
    "    print(f\"Es un numéro par\")\n",
    "else:\n",
    "    print(f\"es un número impar\")"
   ]
  },
  {
   "cell_type": "markdown",
   "metadata": {},
   "source": [
    "#### 2. Genera un programa que nos diga si es de noche, de día o tarde según la hora proporcionada por el usuario."
   ]
  },
  {
   "cell_type": "code",
   "execution_count": 7,
   "metadata": {},
   "outputs": [
    {
     "name": "stdout",
     "output_type": "stream",
     "text": [
      "Es de tarde\n"
     ]
    }
   ],
   "source": [
    "hora = int(input(\"Dime la hora 00-23: \"))\n",
    "\n",
    "if 6 <= hora < 13:\n",
    "    print(\"es de día\")\n",
    "elif 13 <= hora < 20:\n",
    "    print(\"Es de tarde\")\n",
    "else:\n",
    "    print(\"Es de noche\")"
   ]
  },
  {
   "cell_type": "markdown",
   "metadata": {},
   "source": [
    "#### 3. Dado un nombre imprime un saludo personalizado."
   ]
  },
  {
   "cell_type": "code",
   "execution_count": 11,
   "metadata": {},
   "outputs": [
    {
     "name": "stdout",
     "output_type": "stream",
     "text": [
      "Mario eres un crack, espero que estes bien\n"
     ]
    }
   ],
   "source": [
    "nomre = input(\"Dime tu Nombre: \")\n",
    "\n",
    "if nomre == \"Mario\":\n",
    "    print(\"Mario eres un crack, espero que estes bien\")\n",
    "else:\n",
    "    print(\"¿Has visto a Mario?\")"
   ]
  },
  {
   "cell_type": "markdown",
   "metadata": {},
   "source": [
    "#### 4. Escribe un programa que determine qué calificación en texto tiene un alumno en base a su calificación numérica. Las reglas de calificación son: \n",
    "\n",
    "- 0 - 69 insuficiente\n",
    "\n",
    "- 70 - 79 bien\n",
    "\n",
    "- 80 - 89 muy bien\n",
    "\n",
    "- 90 - 100 excelente\n"
   ]
  },
  {
   "cell_type": "code",
   "execution_count": 20,
   "metadata": {},
   "outputs": [
    {
     "name": "stdout",
     "output_type": "stream",
     "text": [
      "la nota es BIEN\n"
     ]
    }
   ],
   "source": [
    "nota = int(input(\"Dime tu nota que ta la convierto a texto\"))\n",
    "\n",
    "if 0 <= nota <= 69:\n",
    "    print(\"la nota es INSUFICIENTE\")\n",
    "elif 70 <= nota <= 79:\n",
    "    print(\"la nota es BIEN\")\n",
    "elif 80 <= nota <= 89:\n",
    "    print(\"la nota es MUY BIEN\")\n",
    "else:\n",
    "    print(\"la nota es EXCELENTE\")\n"
   ]
  },
  {
   "cell_type": "markdown",
   "metadata": {},
   "source": [
    "#### 5. Escribe un programa que imprima el día de la semana, dado un número del 1 al 7.\n"
   ]
  },
  {
   "cell_type": "code",
   "execution_count": 24,
   "metadata": {},
   "outputs": [
    {
     "name": "stdout",
     "output_type": "stream",
     "text": [
      "lunes\n"
     ]
    }
   ],
   "source": [
    "numero_semana = int(input(\"dime que dia de la seman es con números: \"))\n",
    "dias_semana = [\"lunes\", \"martes\", \"miercoles\", \"jueves\", \"viernes\", \"sabado\", \"domingo\"]\n",
    "\n",
    "if 1 <= numero_semana <= 7:\n",
    "    print(dias_semana[numero_semana - 1]) "
   ]
  },
  {
   "cell_type": "markdown",
   "metadata": {},
   "source": [
    "#### 6. Escribe un programa que determine si un número es positivo, negativo o cero."
   ]
  },
  {
   "cell_type": "code",
   "execution_count": 30,
   "metadata": {},
   "outputs": [
    {
     "name": "stdout",
     "output_type": "stream",
     "text": [
      "El numero es 0\n"
     ]
    }
   ],
   "source": [
    "numero_pos = int(input(\"Dame un número\"))\n",
    "\n",
    "if numero_pos < 0:\n",
    "    print(\"Numero negativo\")\n",
    "elif numero_pos > 0:\n",
    "    print(\"Numero positivo\")\n",
    "else:\n",
    "    print(\"El numero es 0\")"
   ]
  },
  {
   "cell_type": "markdown",
   "metadata": {},
   "source": [
    "#### 7. Escribe un programa que determine si una persona puede conducir o no. La edad mínima para conducir es 18 años. \n"
   ]
  },
  {
   "cell_type": "code",
   "execution_count": 33,
   "metadata": {},
   "outputs": [
    {
     "name": "stdout",
     "output_type": "stream",
     "text": [
      "SI puede conducir\n"
     ]
    }
   ],
   "source": [
    "edad = int(input(\"¿Cuál es tu edad?\"))\n",
    "\n",
    "if edad < 18:\n",
    "    print(\"NO puede conducir\")\n",
    "else:\n",
    "    print(\"SI puede conducir\")"
   ]
  },
  {
   "cell_type": "markdown",
   "metadata": {},
   "source": [
    "#### 8. Escribe un programa que determine si un estudiante aprobó o suspendió un examen."
   ]
  },
  {
   "cell_type": "code",
   "execution_count": 36,
   "metadata": {},
   "outputs": [
    {
     "name": "stdout",
     "output_type": "stream",
     "text": [
      "Has aprobado\n"
     ]
    }
   ],
   "source": [
    "nota = int(input(\"Dime tu nota (0-10)\"))\n",
    "\n",
    "if nota >= 5:\n",
    "    print (\"Has aprobado\")\n",
    "else:\n",
    "    print(\"Has suspendido\")"
   ]
  },
  {
   "cell_type": "markdown",
   "metadata": {},
   "source": [
    "#### 9. Escribe un programa que determine si un número es múltiplo de 3 y 5.\n"
   ]
  },
  {
   "cell_type": "code",
   "execution_count": 38,
   "metadata": {},
   "outputs": [
    {
     "name": "stdout",
     "output_type": "stream",
     "text": [
      "El numero SI es múltiplo de 3 y de 5\n"
     ]
    }
   ],
   "source": [
    "numero = int(input(\"Dame un número\"))\n",
    "\n",
    "if numero % 3 == 0 and numero % 5 == 0:\n",
    "    print(\"El numero SI es múltiplo de 3 y de 5\")\n",
    "else:\n",
    "    print(\"El número NO es múltiplo de 3 y de 5\")"
   ]
  },
  {
   "cell_type": "markdown",
   "metadata": {},
   "source": [
    "#### 10. Escribe un programa que determine si un número es par o impar.\n"
   ]
  },
  {
   "cell_type": "code",
   "execution_count": 40,
   "metadata": {},
   "outputs": [
    {
     "name": "stdout",
     "output_type": "stream",
     "text": [
      "Es un numéro par\n"
     ]
    }
   ],
   "source": [
    "numero1 = int(input(\"Dame un número\"))\n",
    "\n",
    "if numero1 % 2 == 0:\n",
    "    print(f\"Es un numéro par\")\n",
    "else:\n",
    "    print(f\"es un número impar\")"
   ]
  }
 ],
 "metadata": {
  "kernelspec": {
   "display_name": "hackio",
   "language": "python",
   "name": "python3"
  },
  "language_info": {
   "codemirror_mode": {
    "name": "ipython",
    "version": 3
   },
   "file_extension": ".py",
   "mimetype": "text/x-python",
   "name": "python",
   "nbconvert_exporter": "python",
   "pygments_lexer": "ipython3",
   "version": "3.12.4"
  }
 },
 "nbformat": 4,
 "nbformat_minor": 2
}
