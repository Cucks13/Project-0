{
 "cells": [
  {
   "cell_type": "markdown",
   "metadata": {},
   "source": [
    "<div style=\"text-align: center;\">\n",
    "  <img src=\"https://github.com/Hack-io-Data/Imagenes/blob/main/01-LogosHackio/logo_celeste@4x.png?raw=true\" alt=\"logo hack(io)\" />\n",
    "</div>"
   ]
  },
  {
   "cell_type": "markdown",
   "metadata": {},
   "source": [
    "\n",
    "#### 1. Declara una lista llamada `numeros` y asigna a ella los valores 15, 20, 60, 23, 40, 74, 48, 19, 54, 67, 93.\n"
   ]
  },
  {
   "cell_type": "code",
   "execution_count": 1,
   "metadata": {},
   "outputs": [],
   "source": [
    "numeros = [25, 30, 60, 23, 40, 74, 48, 19, 54, 67, 93]"
   ]
  },
  {
   "cell_type": "markdown",
   "metadata": {},
   "source": [
    "#### 2. Declara una lista llamada `letras` y asigna a ella los valores 'G', 'B', 'S', 's', 'D', 'z', 'd', 'Z', 'A', 'O', 'D'.\n"
   ]
  },
  {
   "cell_type": "code",
   "execution_count": 3,
   "metadata": {},
   "outputs": [],
   "source": [
    "letras = ['G', 'B', 'S', 's', 'D', 'z', 'd', 'Z', 'A', 'O', 'D']"
   ]
  },
  {
   "cell_type": "markdown",
   "metadata": {},
   "source": [
    "#### 3. Imprime en pantalla el valor de cada lista utilizando la función print()."
   ]
  },
  {
   "cell_type": "code",
   "execution_count": 4,
   "metadata": {},
   "outputs": [
    {
     "name": "stdout",
     "output_type": "stream",
     "text": [
      "[25, 30, 60, 23, 40, 74, 48, 19, 54, 67, 93]\n",
      "['G', 'B', 'S', 's', 'D', 'z', 'd', 'Z', 'A', 'O', 'D']\n"
     ]
    }
   ],
   "source": [
    "print(numeros)\n",
    "print(letras)"
   ]
  },
  {
   "cell_type": "markdown",
   "metadata": {},
   "source": [
    "#### 4. Crea dos variables `longitud_numeros` y `longitud_letras` que correspondan con las longitudes de las listas creadas previamente. "
   ]
  },
  {
   "cell_type": "code",
   "execution_count": 6,
   "metadata": {},
   "outputs": [
    {
     "name": "stdout",
     "output_type": "stream",
     "text": [
      "11\n",
      "11\n"
     ]
    }
   ],
   "source": [
    "longitud_numeros = len(numeros)\n",
    "longitud_letras = len(letras)\n",
    "\n",
    "print(longitud_letras)\n",
    "print(longitud_numeros)"
   ]
  },
  {
   "cell_type": "markdown",
   "metadata": {},
   "source": [
    "#### 5. ¿Cuál es el máximo y mínimo de la lista  `numeros`?"
   ]
  },
  {
   "cell_type": "code",
   "execution_count": 8,
   "metadata": {},
   "outputs": [
    {
     "name": "stdout",
     "output_type": "stream",
     "text": [
      "93\n",
      "19\n"
     ]
    }
   ],
   "source": [
    "num_max = max(numeros)\n",
    "num_min = min(numeros)\n",
    "\n",
    "print(num_max)\n",
    "print(num_min)"
   ]
  },
  {
   "cell_type": "markdown",
   "metadata": {},
   "source": [
    "#### 6. ¿Cuál es el máximo y mínimo de la lista  `numeros`? "
   ]
  },
  {
   "cell_type": "code",
   "execution_count": 9,
   "metadata": {},
   "outputs": [
    {
     "name": "stdout",
     "output_type": "stream",
     "text": [
      "93\n",
      "19\n"
     ]
    }
   ],
   "source": [
    "num_max = max(numeros)\n",
    "num_min = min(numeros)\n",
    "\n",
    "print(num_max)\n",
    "print(num_min)"
   ]
  },
  {
   "cell_type": "markdown",
   "metadata": {},
   "source": [
    "#### 7. Selecciona los primeros 5 elementos de la lista `numeros`."
   ]
  },
  {
   "cell_type": "code",
   "execution_count": 11,
   "metadata": {},
   "outputs": [
    {
     "name": "stdout",
     "output_type": "stream",
     "text": [
      "[25, 30, 60, 23, 40]\n"
     ]
    }
   ],
   "source": [
    "primeros_cinco = numeros[:5]\n",
    "\n",
    "print(primeros_cinco)"
   ]
  },
  {
   "cell_type": "markdown",
   "metadata": {},
   "source": [
    "#### 8. Selecciona los ultimos 3 elementos de la lista `letras`."
   ]
  },
  {
   "cell_type": "code",
   "execution_count": 12,
   "metadata": {},
   "outputs": [
    {
     "name": "stdout",
     "output_type": "stream",
     "text": [
      "['A', 'O', 'D']\n"
     ]
    }
   ],
   "source": [
    "ultimas_tres = letras[8:]\n",
    "\n",
    "print(ultimas_tres)"
   ]
  },
  {
   "cell_type": "markdown",
   "metadata": {},
   "source": [
    "#### 9. Selecciona los elementos que estaán en la lista `letras` que están en posiciones pares (posiciones de Python). "
   ]
  },
  {
   "cell_type": "code",
   "execution_count": 18,
   "metadata": {},
   "outputs": [
    {
     "name": "stdout",
     "output_type": "stream",
     "text": [
      "['G', 'S', 'D', 'd', 'A', 'D']\n"
     ]
    }
   ],
   "source": [
    "posiciones_pares = letras[::2]\n",
    "\n",
    "print(posiciones_pares)"
   ]
  },
  {
   "cell_type": "markdown",
   "metadata": {},
   "source": [
    "#### 10. Selecciona del tercer al décimo elemento de la lista `numeros` seleccionalos de 2 en 2."
   ]
  },
  {
   "cell_type": "code",
   "execution_count": 20,
   "metadata": {},
   "outputs": [
    {
     "name": "stdout",
     "output_type": "stream",
     "text": [
      "[60, 40, 48, 54]\n"
     ]
    }
   ],
   "source": [
    "tercer_decimo = numeros[2:10:2]\n",
    "\n",
    "print(tercer_decimo)"
   ]
  },
  {
   "cell_type": "markdown",
   "metadata": {},
   "source": [
    "#### 11. Ordena la lista  `numeros` de menor a mayor sobreescribiendo el valor de la variable original. "
   ]
  },
  {
   "cell_type": "code",
   "execution_count": 26,
   "metadata": {},
   "outputs": [
    {
     "name": "stdout",
     "output_type": "stream",
     "text": [
      "[19, 23, 25, 30, 40, 48, 54, 60, 67, 74, 93]\n"
     ]
    }
   ],
   "source": [
    "numeros.sort()\n",
    "\n",
    "print(numeros)"
   ]
  },
  {
   "cell_type": "markdown",
   "metadata": {},
   "source": [
    "#### 12. ¿Cuántas veces aparece la letra 'd' en la lista de `letras`?"
   ]
  },
  {
   "cell_type": "code",
   "execution_count": 31,
   "metadata": {},
   "outputs": [
    {
     "name": "stdout",
     "output_type": "stream",
     "text": [
      "1\n"
     ]
    }
   ],
   "source": [
    "cuenta_letras = letras.count(\"d\")\n",
    "\n",
    "print(cuenta_letras)"
   ]
  },
  {
   "cell_type": "markdown",
   "metadata": {},
   "source": [
    "#### 13. Elimina el éltimo elemento de la lista de `numeros`."
   ]
  },
  {
   "cell_type": "code",
   "execution_count": 32,
   "metadata": {},
   "outputs": [
    {
     "name": "stdout",
     "output_type": "stream",
     "text": [
      "[19, 23, 25, 30, 40, 48, 54, 60, 67, 74]\n"
     ]
    }
   ],
   "source": [
    "numeros.pop()\n",
    "\n",
    "print(numeros)"
   ]
  },
  {
   "cell_type": "markdown",
   "metadata": {},
   "source": [
    "#### 14. Agrega un 2 al final de la lista de `numeros`."
   ]
  },
  {
   "cell_type": "code",
   "execution_count": 33,
   "metadata": {},
   "outputs": [
    {
     "name": "stdout",
     "output_type": "stream",
     "text": [
      "[19, 23, 25, 30, 40, 48, 54, 60, 67, 74, 2]\n"
     ]
    }
   ],
   "source": [
    "numeros.append(2)\n",
    "\n",
    "print(numeros)"
   ]
  },
  {
   "cell_type": "markdown",
   "metadata": {},
   "source": [
    "#### 15. Inserta una T en la posicion 3 de la lista de `letras`. "
   ]
  },
  {
   "cell_type": "code",
   "execution_count": 34,
   "metadata": {},
   "outputs": [
    {
     "name": "stdout",
     "output_type": "stream",
     "text": [
      "['G', 'B', 'S', 'T', 's', 'D', 'z', 'd', 'Z', 'A', 'O', 'D']\n"
     ]
    }
   ],
   "source": [
    "letras.insert(3, \"T\")\n",
    "\n",
    "print(letras)"
   ]
  },
  {
   "cell_type": "markdown",
   "metadata": {},
   "source": [
    "#### 16. Elimina el primer elemento cuyo valor es \"D\" de la lista de `letras`. "
   ]
  },
  {
   "cell_type": "code",
   "execution_count": 35,
   "metadata": {},
   "outputs": [
    {
     "name": "stdout",
     "output_type": "stream",
     "text": [
      "['G', 'B', 'S', 'T', 's', 'z', 'd', 'Z', 'A', 'O', 'D']\n"
     ]
    }
   ],
   "source": [
    "letras.remove(\"D\")\n",
    "\n",
    "print(letras)"
   ]
  },
  {
   "cell_type": "markdown",
   "metadata": {},
   "source": [
    "#### 17. Invierte el orden de la lista de `letras`. "
   ]
  },
  {
   "cell_type": "code",
   "execution_count": 36,
   "metadata": {},
   "outputs": [
    {
     "name": "stdout",
     "output_type": "stream",
     "text": [
      "['D', 'O', 'A', 'Z', 'd', 'z', 's', 'T', 'S', 'B', 'G']\n"
     ]
    }
   ],
   "source": [
    "letras.reverse()\n",
    "\n",
    "print(letras)"
   ]
  },
  {
   "cell_type": "markdown",
   "metadata": {},
   "source": [
    "#### 18. Genera una lista vacía y añade la lista `numeros` y `letras` a la lista vacía. "
   ]
  },
  {
   "cell_type": "code",
   "execution_count": 37,
   "metadata": {},
   "outputs": [
    {
     "name": "stdout",
     "output_type": "stream",
     "text": [
      "[[19, 23, 25, 30, 40, 48, 54, 60, 67, 74, 2], ['D', 'O', 'A', 'Z', 'd', 'z', 's', 'T', 'S', 'B', 'G']]\n"
     ]
    }
   ],
   "source": [
    "lista_vacia = [numeros, letras]\n",
    "\n",
    "print(lista_vacia)"
   ]
  }
 ],
 "metadata": {
  "kernelspec": {
   "display_name": "hackio",
   "language": "python",
   "name": "python3"
  },
  "language_info": {
   "codemirror_mode": {
    "name": "ipython",
    "version": 3
   },
   "file_extension": ".py",
   "mimetype": "text/x-python",
   "name": "python",
   "nbconvert_exporter": "python",
   "pygments_lexer": "ipython3",
   "version": "3.12.4"
  }
 },
 "nbformat": 4,
 "nbformat_minor": 2
}
