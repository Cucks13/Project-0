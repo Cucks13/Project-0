{
 "cells": [
  {
   "cell_type": "markdown",
   "metadata": {
    "vscode": {
     "languageId": "plaintext"
    }
   },
   "source": [
    "#### 1. Define un set vacío llamado `mi_set` y luego imprímelo."
   ]
  },
  {
   "cell_type": "code",
   "execution_count": 1,
   "metadata": {},
   "outputs": [],
   "source": [
    "mi_set = set()"
   ]
  },
  {
   "cell_type": "markdown",
   "metadata": {},
   "source": [
    "#### 2. Añade los números `4`, `5` y `6` al set `mi_set`."
   ]
  },
  {
   "cell_type": "code",
   "execution_count": 2,
   "metadata": {},
   "outputs": [],
   "source": [
    "mi_set = {4,5,6}"
   ]
  },
  {
   "cell_type": "markdown",
   "metadata": {},
   "source": [
    "#### 3. Crea un set llamado `colores` con los siguientes elementos: `\"rojo\"`, `\"verde\"`, `\"azul\"`, `\"amarillo\"`, `\"negro\"` `\"blanco\"`.\n"
   ]
  },
  {
   "cell_type": "code",
   "execution_count": 3,
   "metadata": {},
   "outputs": [],
   "source": [
    "colores = set()\n",
    "colores = {\"rojo\", \"verde\", \"azul\", \"amarillo\", \"negro\", \"blanco\"}"
   ]
  },
  {
   "cell_type": "markdown",
   "metadata": {},
   "source": [
    "#### 4. Elimina el color 'rojo'  del set `colores`."
   ]
  },
  {
   "cell_type": "code",
   "execution_count": 4,
   "metadata": {},
   "outputs": [],
   "source": [
    "colores.remove(\"rojo\")"
   ]
  },
  {
   "cell_type": "markdown",
   "metadata": {},
   "source": [
    "#### 5. Verifica si el elemento `\"blanco\"` está presente en el set `colores`."
   ]
  },
  {
   "cell_type": "code",
   "execution_count": 5,
   "metadata": {},
   "outputs": [
    {
     "data": {
      "text/plain": [
       "True"
      ]
     },
     "execution_count": 5,
     "metadata": {},
     "output_type": "execute_result"
    }
   ],
   "source": [
    "\"blanco\" in colores"
   ]
  },
  {
   "cell_type": "markdown",
   "metadata": {},
   "source": [
    "#### 6. Crea un nuevo set que contenga todos los elementos de `set1` y `set2`, sin duplicados.\n",
    "\n",
    "```python\n",
    "set1 = {1, 2, 3}\n",
    "set2 = {3, 4, 5}\n",
    "```"
   ]
  },
  {
   "cell_type": "code",
   "execution_count": 10,
   "metadata": {},
   "outputs": [
    {
     "data": {
      "text/plain": [
       "{1, 2, 3, 4, 5}"
      ]
     },
     "execution_count": 10,
     "metadata": {},
     "output_type": "execute_result"
    }
   ],
   "source": [
    "set1.union(set2)"
   ]
  },
  {
   "cell_type": "markdown",
   "metadata": {},
   "source": [
    "#### 7. Encuentra los elementos comunes entre `setA` y `setB`.\n",
    "\n",
    "```python\n",
    "setA = {1, 2, 3, 4}\n",
    "setB = {3, 4, 5, 6}\n",
    "```"
   ]
  },
  {
   "cell_type": "code",
   "execution_count": 12,
   "metadata": {},
   "outputs": [
    {
     "data": {
      "text/plain": [
       "{3, 4}"
      ]
     },
     "execution_count": 12,
     "metadata": {},
     "output_type": "execute_result"
    }
   ],
   "source": [
    "setA.intersection(setB)"
   ]
  },
  {
   "cell_type": "markdown",
   "metadata": {},
   "source": [
    "#### 8. Encuentra los elementos en `setX` que no están en `setY`.\n",
    "\n",
    "```python\n",
    "setX = {1, 2, 3, 4}\n",
    "setY = {3, 4, 5, 6}\n",
    "```"
   ]
  },
  {
   "cell_type": "code",
   "execution_count": 14,
   "metadata": {},
   "outputs": [
    {
     "data": {
      "text/plain": [
       "{1, 2}"
      ]
     },
     "execution_count": 14,
     "metadata": {},
     "output_type": "execute_result"
    }
   ],
   "source": [
    "setX.difference(setY)"
   ]
  },
  {
   "cell_type": "markdown",
   "metadata": {},
   "source": [
    "#### 9. Encuentra los elementos que están en `setP` o `setQ`, pero no en ambos.\n",
    "\n",
    "```python\n",
    "setP = {1, 2, 3, 4}\n",
    "setQ = {3, 4, 5, 6}\n",
    "```"
   ]
  },
  {
   "cell_type": "code",
   "execution_count": 20,
   "metadata": {},
   "outputs": [
    {
     "name": "stdout",
     "output_type": "stream",
     "text": [
      "({1, 2}, {5, 6})\n"
     ]
    }
   ],
   "source": [
    "elementos_unicos = setP.difference(setQ), setQ.difference(setP)\n",
    "\n",
    "print(elementos_unicos)"
   ]
  },
  {
   "cell_type": "markdown",
   "metadata": {},
   "source": [
    "#### 10. Comprueba si `setA` es un subconjunto de `setB`.\n",
    "\n",
    "```python\n",
    "setA = {1, 2, 3}\n",
    "setB = {1, 2, 3, 4, 5}\n",
    "```"
   ]
  },
  {
   "cell_type": "code",
   "execution_count": 22,
   "metadata": {},
   "outputs": [
    {
     "data": {
      "text/plain": [
       "True"
      ]
     },
     "execution_count": 22,
     "metadata": {},
     "output_type": "execute_result"
    }
   ],
   "source": [
    "setA.issubset(setB)"
   ]
  },
  {
   "cell_type": "markdown",
   "metadata": {},
   "source": [
    "#### 11. Comprueba si `setM` y `setN` no tienen elementos en común.\n",
    "\n",
    "```python\n",
    "setM = {1, 2, 3}\n",
    "setN = {4, 5, 6}\n",
    "```"
   ]
  },
  {
   "cell_type": "code",
   "execution_count": 24,
   "metadata": {},
   "outputs": [
    {
     "data": {
      "text/plain": [
       "set()"
      ]
     },
     "execution_count": 24,
     "metadata": {},
     "output_type": "execute_result"
    }
   ],
   "source": [
    "setM.intersection(setN)"
   ]
  },
  {
   "cell_type": "markdown",
   "metadata": {},
   "source": [
    "#### 12. Vacía el set `conjunto` de manera que no contenga ningún elemento.\n",
    "\n",
    "```python\n",
    "conjunto = {1, 2, 3, 4, 5}\n",
    "```"
   ]
  },
  {
   "cell_type": "code",
   "execution_count": 29,
   "metadata": {},
   "outputs": [
    {
     "name": "stdout",
     "output_type": "stream",
     "text": [
      "set()\n"
     ]
    }
   ],
   "source": [
    "conjunto.clear()\n",
    "\n",
    "print(conjunto)"
   ]
  },
  {
   "cell_type": "markdown",
   "metadata": {},
   "source": [
    "#### 13. Crea un set llamado `numeros_set` que contenga los elementos de `lista_numeros`.\n",
    "\n",
    "```python\n",
    "lista_numeros = [1, 2, 3, 4, 5]\n",
    "```\n"
   ]
  },
  {
   "cell_type": "code",
   "execution_count": 36,
   "metadata": {},
   "outputs": [
    {
     "name": "stdout",
     "output_type": "stream",
     "text": [
      "{1, 2, 3, 4, 5}\n"
     ]
    }
   ],
   "source": [
    "numeros_set = set(lista_numeros)\n",
    "\n",
    "print(numeros_set)"
   ]
  },
  {
   "cell_type": "markdown",
   "metadata": {},
   "source": [
    "#### 14. Añade las letras `\"o\"` y `\"u\"` al set `vocales`.\n",
    "\n",
    "```python\n",
    "vocales = {\"a\", \"e\", \"i\"}\n",
    "```"
   ]
  },
  {
   "cell_type": "code",
   "execution_count": 41,
   "metadata": {},
   "outputs": [
    {
     "name": "stdout",
     "output_type": "stream",
     "text": [
      "{'o', 'u', 'e', 'i', 'a'}\n"
     ]
    }
   ],
   "source": [
    "vocales.add(\"o\")\n",
    "vocales.add(\"u\")\n",
    "\n",
    "print(vocales)"
   ]
  },
  {
   "cell_type": "markdown",
   "metadata": {},
   "source": [
    "#### 15. Combina `setA` y `setB` utilizando el método `update` para modificar `setA` y agregar los elementos de `setB`.\n",
    "\n",
    "```python\n",
    "setA = {1, 2, 3}\n",
    "setB = {3, 4, 5}\n",
    "```"
   ]
  },
  {
   "cell_type": "code",
   "execution_count": 3,
   "metadata": {},
   "outputs": [
    {
     "name": "stdout",
     "output_type": "stream",
     "text": [
      "{1, 2, 3, 4, 5}\n"
     ]
    }
   ],
   "source": [
    "setA.update(setB)\n",
    "\n",
    "print(setA)"
   ]
  },
  {
   "cell_type": "markdown",
   "metadata": {},
   "source": [
    "#### 16. Elimina `\"conejo\"` del set `animales`.\n",
    "\n",
    "```python\n",
    "animales = {\"gato\", \"perro\", \"conejo\", \"ratón\"}\n",
    "```\n"
   ]
  },
  {
   "cell_type": "code",
   "execution_count": 7,
   "metadata": {},
   "outputs": [
    {
     "name": "stdout",
     "output_type": "stream",
     "text": [
      "{'perro', 'ratón', 'gato'}\n"
     ]
    }
   ],
   "source": [
    "animales.remove(\"conejo\")"
   ]
  },
  {
   "cell_type": "markdown",
   "metadata": {},
   "source": [
    "#### 17. Calcula cuántos elementos tiene el set `setX` e imprime el resultado.\n",
    "\n",
    "```python\n",
    "setX = {1, 2, 3, 4, 5}\n",
    "```"
   ]
  },
  {
   "cell_type": "code",
   "execution_count": 10,
   "metadata": {},
   "outputs": [
    {
     "data": {
      "text/plain": [
       "5"
      ]
     },
     "execution_count": 10,
     "metadata": {},
     "output_type": "execute_result"
    }
   ],
   "source": [
    "len(setX)"
   ]
  }
 ],
 "metadata": {
  "kernelspec": {
   "display_name": "hackio",
   "language": "python",
   "name": "python3"
  },
  "language_info": {
   "codemirror_mode": {
    "name": "ipython",
    "version": 3
   },
   "file_extension": ".py",
   "mimetype": "text/x-python",
   "name": "python",
   "nbconvert_exporter": "python",
   "pygments_lexer": "ipython3",
   "version": "3.12.4"
  }
 },
 "nbformat": 4,
 "nbformat_minor": 2
}
