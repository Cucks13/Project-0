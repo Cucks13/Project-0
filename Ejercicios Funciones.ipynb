{
 "cells": [
  {
   "cell_type": "markdown",
   "metadata": {},
   "source": [
    "\n",
    "<div style=\"text-align: center;\">\n",
    "  <img src=\"https://github.com/Hack-io-Data/Imagenes/blob/main/01-LogosHackio/logo_celeste@4x.png?raw=true\" alt=\"esquema\" />\n",
    "</div>"
   ]
  },
  {
   "cell_type": "markdown",
   "metadata": {},
   "source": [
    "#### 1. Escribe una función sin parámetros que imprima el siguiente mensaje \"¡Hola! Bienvenido.\"\n"
   ]
  },
  {
   "cell_type": "code",
   "execution_count": 3,
   "metadata": {},
   "outputs": [
    {
     "name": "stdout",
     "output_type": "stream",
     "text": [
      "¡Hola! Bienvenido\n"
     ]
    }
   ],
   "source": [
    "def imprimir():\n",
    "    print(\"¡Hola! Bienvenido\")\n",
    "\n",
    "imprimir()"
   ]
  },
  {
   "cell_type": "markdown",
   "metadata": {},
   "source": [
    "#### 2. Escribe una función que reciba dos parámetros y devuelva la suma de ambos.\n"
   ]
  },
  {
   "cell_type": "code",
   "execution_count": 13,
   "metadata": {},
   "outputs": [
    {
     "name": "stdout",
     "output_type": "stream",
     "text": [
      "10\n"
     ]
    }
   ],
   "source": [
    "def sumar():\n",
    "    a = int(input())\n",
    "    b = int(input())\n",
    "    resultado = a + b\n",
    "    return resultado\n",
    "\n",
    "print(sumar())\n"
   ]
  },
  {
   "cell_type": "markdown",
   "metadata": {},
   "source": [
    "#### 3. Escribe una función que reciba un número y devuelva True si es par, False si no lo es."
   ]
  },
  {
   "cell_type": "code",
   "execution_count": 18,
   "metadata": {},
   "outputs": [
    {
     "name": "stdout",
     "output_type": "stream",
     "text": [
      "true\n"
     ]
    }
   ],
   "source": [
    "def par_impar():\n",
    "    a = int(input())\n",
    "    if a % 2 == 0:\n",
    "        print (\"true\")\n",
    "    else:\n",
    "        print(\"false\")\n",
    "\n",
    "par_impar()"
   ]
  },
  {
   "cell_type": "markdown",
   "metadata": {},
   "source": [
    "#### 4. Escribe un función que devuelva un saludo personalizado a una persona dado su nombre. \n"
   ]
  },
  {
   "cell_type": "code",
   "execution_count": 21,
   "metadata": {},
   "outputs": [
    {
     "name": "stdout",
     "output_type": "stream",
     "text": [
      "Hola como estas julio, yo me llamo Lucas\n"
     ]
    }
   ],
   "source": [
    "def saludo_personalizado():\n",
    "    nombre = input()\n",
    "    print(f\"Hola como estas {nombre}, yo me llamo Lucas\")\n",
    "\n",
    "saludo_personalizado()"
   ]
  },
  {
   "cell_type": "markdown",
   "metadata": {},
   "source": [
    "#### 5. Escribe una función que sume todos los números que reciba como argumento. La función debe recibir una cantidad variable de argumentos y devolver la suma de todos ellos."
   ]
  },
  {
   "cell_type": "code",
   "execution_count": 24,
   "metadata": {},
   "outputs": [
    {
     "name": "stdout",
     "output_type": "stream",
     "text": [
      "19\n"
     ]
    }
   ],
   "source": [
    "def suma_argumentos(*args):\n",
    "    return sum(args)\n",
    "\n",
    "print(suma_argumentos(1, 0, 9, 4, 5))  "
   ]
  },
  {
   "cell_type": "markdown",
   "metadata": {},
   "source": [
    "#### 6. Escribe una función que cuente las letras de una palabra y devuelva un diccionario con la cantidad de veces que se repite cada letra \n"
   ]
  },
  {
   "cell_type": "code",
   "execution_count": 26,
   "metadata": {},
   "outputs": [
    {
     "name": "stdout",
     "output_type": "stream",
     "text": [
      "{'j': 2, 'o': 2, 'i': 2, 'n': 2, 'a': 1, 's': 1, 'd': 1}\n"
     ]
    }
   ],
   "source": [
    "def contar_letras(palabra):\n",
    "    palabra = palabra.lower()\n",
    "    conteo = {}\n",
    "    for letra in palabra:\n",
    "        if letra in conteo:\n",
    "            conteo[letra] += 1\n",
    "        else:\n",
    "            conteo[letra] = 1\n",
    "    return conteo\n",
    "\n",
    "palabra = input(\"Introduce una palabra: \")\n",
    "resultado = contar_letras(palabra)\n",
    "print(resultado)\n"
   ]
  },
  {
   "cell_type": "markdown",
   "metadata": {},
   "source": [
    "#### 7. Escribe un función recursiva para calcular el factorial de un número entero no negativo."
   ]
  },
  {
   "cell_type": "code",
   "execution_count": 29,
   "metadata": {},
   "outputs": [
    {
     "name": "stdout",
     "output_type": "stream",
     "text": [
      "120\n"
     ]
    }
   ],
   "source": [
    "def factorial(n):\n",
    "    if n == 0:\n",
    "        return 1\n",
    "    else:\n",
    "        return n * factorial(n - 1)\n",
    "\n",
    "numero = int(input(\"Dame un número\"))\n",
    "print(factorial(numero))  "
   ]
  },
  {
   "cell_type": "markdown",
   "metadata": {},
   "source": [
    "#### 8. Escribe una función que tome dos parámetros: `figura` (una cadena que puede ser `\"rectangulo\"`, `\"circulo\"` o `\"triangulo\"`) y `datos` (una tupla con los datos necesarios para calcular el área de la figura). "
   ]
  },
  {
   "cell_type": "code",
   "execution_count": 30,
   "metadata": {},
   "outputs": [
    {
     "name": "stdout",
     "output_type": "stream",
     "text": [
      "El área del triangulo es: 36.0\n"
     ]
    }
   ],
   "source": [
    "def calcular_area():\n",
    "    figura = input(\"Introduce la figura ('rectangulo', 'circulo' o 'triangulo'): \")\n",
    "    if figura == \"rectangulo\":\n",
    "        base = float(input(\"Introduce la base del rectángulo: \"))\n",
    "        altura = float(input(\"Introduce la altura del rectángulo: \"))\n",
    "        area = base * altura\n",
    "    elif figura == \"circulo\":\n",
    "        radio = float(input(\"Introduce el radio del círculo: \"))\n",
    "        area = 3.14159 * radio**2\n",
    "    elif figura == \"triangulo\":\n",
    "        base = float(input(\"Introduce la base del triángulo: \"))\n",
    "        altura = float(input(\"Introduce la altura del triángulo: \"))\n",
    "        area = 0.5 * base * altura\n",
    "    else:\n",
    "        print(\"Figura no soportada.\")\n",
    "        return\n",
    "    print(f\"El área del {figura} es: {area}\")\n",
    "\n",
    "calcular_area()\n"
   ]
  },
  {
   "cell_type": "markdown",
   "metadata": {},
   "source": [
    "#### 9. Escribe una función que tome una lista de números como parámetro y devuelva el número más grande de la lista. No utilices la función `max()` de Python en tu solución."
   ]
  },
  {
   "cell_type": "code",
   "execution_count": 1,
   "metadata": {},
   "outputs": [
    {
     "name": "stdout",
     "output_type": "stream",
     "text": [
      "88888\n"
     ]
    }
   ],
   "source": [
    "def maximo(lista):\n",
    "    if not lista:\n",
    "        raise ValueError(\"La lista está vacía\")\n",
    "    maximo = lista[0]\n",
    "    for numero in lista:\n",
    "        if numero > maximo:\n",
    "            maximo = numero  \n",
    "    return maximo\n",
    "\n",
    "numeros = [45, 138, 4, 123, 88888, 4566]\n",
    "print(maximo(numeros))  \n"
   ]
  },
  {
   "cell_type": "markdown",
   "metadata": {},
   "source": [
    "#### 10. Escribe una función que tome una cadena como parámetro un texto y devuelva `True` si la cadena es un palíndromo (se lee igual de izquierda a derecha que de derecha a izquierda), y `False` en caso contrario. Ignora los espacios y considera mayúsculas y minúsculas de manera insensible.\n"
   ]
  },
  {
   "cell_type": "code",
   "execution_count": null,
   "metadata": {},
   "outputs": [],
   "source": []
  },
  {
   "cell_type": "markdown",
   "metadata": {},
   "source": [
    "#### 11. Escribe una función que tome una cadena como parámetro y devuelva dos valores: la cantidad de vocales y la cantidad de consonantes presentes en la cadena. Ignora los espacios y considera mayúsculas y minúsculas de manera insensible.\n"
   ]
  },
  {
   "cell_type": "code",
   "execution_count": 3,
   "metadata": {},
   "outputs": [
    {
     "name": "stdout",
     "output_type": "stream",
     "text": [
      "Vocales: 6, Consonantes: 7\n"
     ]
    }
   ],
   "source": [
    "def contador(frase):\n",
    "    vocales = \"aeiouáéíóúAEIOUÁÉÍÓÚ\"\n",
    "    contador_vocales = 0\n",
    "    contador_consonantes = 0\n",
    "    for palabra in frase:\n",
    "        if palabra.isalpha():  \n",
    "            if palabra in vocales:\n",
    "                contador_vocales += 1\n",
    "            else:\n",
    "                contador_consonantes += 1\n",
    "\n",
    "    return contador_vocales, contador_consonantes\n",
    "\n",
    "# Ejemplo de uso\n",
    "frase = input(\"Dame una frase\")\n",
    "print(f\"Vocales: {vocales}, Consonantes: {consonantes}\")\n"
   ]
  }
 ],
 "metadata": {
  "kernelspec": {
   "display_name": "hackio",
   "language": "python",
   "name": "python3"
  },
  "language_info": {
   "codemirror_mode": {
    "name": "ipython",
    "version": 3
   },
   "file_extension": ".py",
   "mimetype": "text/x-python",
   "name": "python",
   "nbconvert_exporter": "python",
   "pygments_lexer": "ipython3",
   "version": "3.12.4"
  }
 },
 "nbformat": 4,
 "nbformat_minor": 2
}
